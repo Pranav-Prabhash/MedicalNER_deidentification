{
 "cells": [
  {
   "cell_type": "code",
   "execution_count": 1,
   "id": "d434a7bf-977e-4f1e-8b04-2df66ade80eb",
   "metadata": {},
   "outputs": [],
   "source": [
    "#Imports and Models\n",
    "\n",
    "import re\n",
    "import spacy\n",
    "\n",
    "# Load spaCy model\n",
    "nlp = spacy.load(\"en_core_web_sm\")\n"
   ]
  },
  {
   "cell_type": "code",
   "execution_count": 2,
   "id": "5ef8deab-1871-486c-8ba2-9adc9be235dd",
   "metadata": {},
   "outputs": [],
   "source": [
    "#Define regex patterns\n",
    "\n",
    "# Dates (12/05/2021, 2021-05-12,15-Jan-2025 etc.)\n",
    "# Numeric dates: 12/05/2021, 2021-05-12\n",
    "numeric_dates = r\"\\b\\d{1,2}[/-]\\d{1,2}[/-]\\d{2,4}\\b|\\b\\d{4}[/-]\\d{1,2}[/-]\\d{1,2}\\b\"\n",
    "\n",
    "# Month-name dates: Dec 1, 2018  or  1 Dec 2018\n",
    "month_dates = r\"\\b(?:Jan|Feb|Mar|Apr|May|Jun|Jul|Aug|Sep|Oct|Nov|Dec)[a-z]*\\s\\d{1,2},?\\s\\d{4}\\b\" \\\n",
    "                  r\"|\\b\\d{1,2}\\s(?:Jan|Feb|Mar|Apr|May|Jun|Jul|Aug|Sep|Oct|Nov|Dec)[a-z]*,?\\s\\d{4}\\b\"\n",
    "\n",
    "# Phone numbers (+1-202-555-0173, 9876543210, etc.)\n",
    "phone_pattern = r\"(?:\\+?\\d{1,3}[-.\\s]?)?(?:\\(?\\d{2,4}\\)?[-.\\s]?)?\\d{3,5}[-.\\s]?\\d{4}\"\n",
    "\n",
    "# Emails\n",
    "email_pattern = r\"[a-zA-Z0-9._%+-]+@[a-zA-Z0-9.-]+\\.[a-zA-Z]{2,}\"\n",
    "\n",
    "# Generic IDs (Aadhaar, SSN-like, etc.)\n",
    "id_pattern = r'\\b(?:[A-Z]{2,10}-\\d{3,10}|\\d{3,10}-[A-Z]{1,10})\\b'\n",
    "\n",
    "\n",
    "\n",
    "#Name pattern\n",
    "# Regex to catch names after 'Patient:' or 'Name:'\n",
    "name_pattern = r'(?<=Patient:\\s)[A-Z][a-z]+(?:\\s[A-Z][a-z]+)?'\n",
    "\n",
    "\n",
    "# Address pattern: ( india and US friendly)\n",
    "# - Numbers +street name (e.g., 102 Maple Road)\n",
    "\n",
    "address_pattern = r'\\d{1,5}\\s[A-Za-z0-9\\s\\.]+(?:Street|St|Road|Rd|Avenue|Ave|Lane|Ln|Nagar|Colony|Boulevard|Blvd|Drive|Dr|Court|Ct)?[,\\.]?\\s?[A-Za-z\\s]*[,\\.]?\\s?(?:[A-Za-z]+)?\\s?\\d{6}?'\n"
   ]
  },
  {
   "cell_type": "code",
   "execution_count": 3,
   "id": "77149543-fecb-46b7-a410-f1dd8749fde2",
   "metadata": {},
   "outputs": [],
   "source": [
    "#Regex deidentification function\n",
    "\n",
    "def regex_deidentify(text):\n",
    "    text = re.sub(numeric_dates, \"[DATE]\", text)\n",
    "    text = re.sub(month_dates, \"[DATE]\", text, flags=re.IGNORECASE)\n",
    "    text = re.sub(phone_pattern, \"[CONTACT]\", text)\n",
    "    text = re.sub(email_pattern, \"[CONTACT]\", text)\n",
    "    text = re.sub(id_pattern, \"[ID]\", text)\n",
    "    text = re.sub(name_pattern, \"[NAME]\", text)\n",
    "    text = re.sub(address_pattern, \"[ADDRESS]\", text, flags=re.IGNORECASE)\n",
    "    return text\n"
   ]
  },
  {
   "cell_type": "code",
   "execution_count": 4,
   "id": "eaf98e14-63c4-4ce6-be15-bc105a79971f",
   "metadata": {},
   "outputs": [],
   "source": [
    "def spacy_deidentify(text: str) -> str:\n",
    "    doc = nlp(text)\n",
    "    new_text = text\n",
    "    \n",
    "    # --- Mask PHI using spaCy ---\n",
    "    for ent in doc.ents:\n",
    "        if ent.label_ == \"PERSON\":\n",
    "            new_text = new_text.replace(ent.text, \"[NAME]\")\n",
    "        elif ent.label_ == \"ORG\":\n",
    "            if \"hospital\" in ent.text.lower() or \"clinic\" in ent.text.lower() or \"insurance\" in ent.text.lower():\n",
    "                new_text = new_text.replace(ent.text, \"[ORG]\")\n",
    "        elif ent.label_ in [\"GPE\", \"LOC\", \"FAC\"]:\n",
    "            if any(keyword in ent.text.lower() for keyword in [\"road\", \"street\", \"lane\", \"city\", \"state\"]):\n",
    "                new_text = new_text.replace(ent.text, \"[ADDRESS]\")\n",
    "\n",
    "    # --- Extra manual insurance masking ---\n",
    "    insurance_orgs = [\"Blue Shield\", \"United Healthcare\", \"Aetna\"]\n",
    "    for org in insurance_orgs:\n",
    "        if org in new_text:\n",
    "            new_text = new_text.replace(org, \"[ORG]\")\n",
    "\n",
    "    return new_text\n",
    "\n"
   ]
  },
  {
   "cell_type": "code",
   "execution_count": 5,
   "id": "37aae476-ce38-43e5-8992-d2507a326c19",
   "metadata": {},
   "outputs": [],
   "source": [
    "#Combined Pipeline\n",
    "\n",
    "def deidentify_text(text):\n",
    "    text = regex_deidentify(text)\n",
    "    text = spacy_deidentify(text)\n",
    "    return text\n"
   ]
  },
  {
   "cell_type": "code",
   "execution_count": 6,
   "id": "a4afd5e0-aab5-4bfd-bedc-5a953d5b5108",
   "metadata": {},
   "outputs": [
    {
     "name": "stdout",
     "output_type": "stream",
     "text": [
      "Original Note:\n",
      " \n",
      "Patient Name: John Smith\n",
      "Visited: City Hospital, New York\n",
      "Date of Admission: 12/05/2021\n",
      "Phone: +1-202-555-0173\n",
      "Email: john.smith@example.com\n",
      "Insurance Provider: Blue Shield\n",
      "Patient ID: AB12345678\n",
      "\n",
      "\n",
      "--- After Regex ---\n",
      " \n",
      "Patient Name: John Smith\n",
      "Visited: City Hospital, New York\n",
      "Date of Admission: [DATE]\n",
      "Phone: [CONTACT]\n",
      "Email: [CONTACT]\n",
      "Insurance Provider: Blue Shield\n",
      "Patient ID: AB[CONTACT]\n",
      "\n",
      "\n",
      "--- After spaCy ---\n",
      " \n",
      "Patient Name: [NAME]\n",
      "Visited: [ORG], New York\n",
      "Date of Admission: 12/05/2021\n",
      "Phone: +1-202-555-0173\n",
      "Email: john.smith@example.com\n",
      "Insurance Provider: [ORG]\n",
      "Patient ID: AB12345678\n",
      "\n",
      "\n",
      "--- Final De-identified Note ---\n",
      " \n",
      "Patient Name: [NAME]\n",
      "Visited: [ORG], New York\n",
      "Date of Admission: [DATE]\n",
      "Phone: [CONTACT]\n",
      "Email: [CONTACT]\n",
      "Insurance Provider: [ORG]\n",
      "Patient ID: AB[CONTACT]\n",
      "\n"
     ]
    }
   ],
   "source": [
    "sample_note = \"\"\"\n",
    "Patient Name: John Smith\n",
    "Visited: City Hospital, New York\n",
    "Date of Admission: 12/05/2021\n",
    "Phone: +1-202-555-0173\n",
    "Email: john.smith@example.com\n",
    "Insurance Provider: Blue Shield\n",
    "Patient ID: AB12345678\n",
    "\"\"\"\n",
    "\n",
    "print(\"Original Note:\\n\", sample_note)\n",
    "print(\"\\n--- After Regex ---\\n\", regex_deidentify(sample_note))\n",
    "print(\"\\n--- After spaCy ---\\n\", spacy_deidentify(sample_note))\n",
    "print(\"\\n--- Final De-identified Note ---\\n\", deidentify_text(sample_note))\n"
   ]
  },
  {
   "cell_type": "code",
   "execution_count": 7,
   "id": "057d3a4d-a004-4ed0-8de8-7d21b38c1077",
   "metadata": {},
   "outputs": [
    {
     "name": "stdout",
     "output_type": "stream",
     "text": [
      "\n",
      "Patient Name: [NAME]\n",
      "Admission Date: 14-Aug-2021\n",
      "Treated at [ORG], Bengaluru.\n",
      "Contact: [CONTACT]\n",
      "License #: [ID]\n",
      "\n"
     ]
    }
   ],
   "source": [
    "# Sample text\n",
    "sample_text = \"\"\"\n",
    "Patient Name: Anil Kumar\n",
    "Admission Date: 14-Aug-2021\n",
    "Treated at Fortis Hospital, Bengaluru.\n",
    "Contact: 080-22446655\n",
    "License #: DL-29384\n",
    "\"\"\"\n",
    "\n",
    "# Call your de-identification function\n",
    "deidentified_text =deidentify_text(sample_text)\n",
    "\n",
    "# Print the output\n",
    "print(deidentified_text)\n"
   ]
  },
  {
   "cell_type": "code",
   "execution_count": 8,
   "id": "bd3ac558-db4e-4c9a-a799-415477d1b058",
   "metadata": {},
   "outputs": [
    {
     "name": "stdout",
     "output_type": "stream",
     "text": [
      "\n",
      "Patient: [NAME]\n",
      "Visited [NAME] on [DATE].\n",
      "Record No: [ID]\n",
      "Phone: [CONTACT]\n",
      "\n"
     ]
    }
   ],
   "source": [
    "# Sample text\n",
    "sample_text = \"\"\"\n",
    "Patient: Amit Sharma\n",
    "Visited AIIMS Delhi on 10/10/2020.\n",
    "Record No: AIIMS-88392\n",
    "Phone: +91-9812345678\n",
    "\"\"\"\n",
    "\n",
    "# Call your de-identification function\n",
    "deidentified_text =deidentify_text(sample_text)\n",
    "\n",
    "# Print the output\n",
    "print(deidentified_text)"
   ]
  },
  {
   "cell_type": "code",
   "execution_count": 9,
   "id": "6c1d8974-f65f-4057-b489-4f7875958fc3",
   "metadata": {},
   "outputs": [
    {
     "name": "stdout",
     "output_type": "stream",
     "text": [
      "\n",
      "Mr. [NAME] presented with chest pain.\n",
      "Seen at [ORG], Los Angeles on [DATE].\n",
      "Contact: [CONTACT]\n",
      "Insurance Beneficiary No: [ID]\n",
      "\n"
     ]
    }
   ],
   "source": [
    "# Sample text\n",
    "sample_text = \"\"\"\n",
    "Mr. Daniel Lopez presented with chest pain.\n",
    "Seen at Mercy General Hospital, Los Angeles on 03-25-2022.\n",
    "Contact: 213-555-2345\n",
    "Insurance Beneficiary No: 99123-AZ\n",
    "\"\"\"\n",
    "\n",
    "# Call your de-identification function\n",
    "deidentified_text =deidentify_text(sample_text)\n",
    "\n",
    "# Print the output\n",
    "print(deidentified_text)"
   ]
  },
  {
   "cell_type": "code",
   "execution_count": 10,
   "id": "f79daf8b-6c2b-46b7-a159-bc2041ff428e",
   "metadata": {},
   "outputs": [
    {
     "name": "stdout",
     "output_type": "stream",
     "text": [
      "\n",
      "Name: [NAME]\n",
      "Seen at Kaiser Permanente, San Francisco on [DATE].\n",
      "DOB: [DATE]\n",
      "Policy ID: [ID]\n",
      "Contact: [CONTACT]\n",
      "\n"
     ]
    }
   ],
   "source": [
    "# Sample text\n",
    "sample_text = \"\"\"\n",
    "Name: Linda Martinez\n",
    "Seen at Kaiser Permanente, San Francisco on Dec 1, 2018.\n",
    "DOB: 02-14-1985\n",
    "Policy ID: KP-556677\n",
    "Contact: 415-444-7788\n",
    "\"\"\"\n",
    "\n",
    "# Call your de-identification function\n",
    "deidentified_text =deidentify_text(sample_text)\n",
    "\n",
    "# Print the output\n",
    "print(deidentified_text)"
   ]
  },
  {
   "cell_type": "code",
   "execution_count": 11,
   "id": "919d6624-d2a7-4e16-a8dc-cf473177065b",
   "metadata": {},
   "outputs": [
    {
     "name": "stdout",
     "output_type": "stream",
     "text": [
      "\n",
      "Patient [NAME], DOB: [DATE].\n",
      "Consulted with Dr. [NAME] at [ORG].\n",
      "Address: 102 Maple Road, Seattle, WA 98101.\n",
      "Contact: [CONTACT]\n",
      "\n"
     ]
    }
   ],
   "source": [
    "# Sample text\n",
    "sample_text = \"\"\"\n",
    "Patient Jane Williams, DOB: 08/09/1978.\n",
    "Consulted with Dr. Anthony Wilson at Sunrise Clinic.\n",
    "Address: 102 Maple Road, Seattle, WA 98101.\n",
    "Contact: jwilliams78@gmail.com\n",
    "\"\"\"\n",
    "\n",
    "# Call your de-identification function\n",
    "deidentified_text =deidentify_text(sample_text)\n",
    "\n",
    "# Print the output\n",
    "print(deidentified_text)"
   ]
  },
  {
   "cell_type": "code",
   "execution_count": null,
   "id": "dd1c5246-7fb3-4f97-865d-ea671b60d3ea",
   "metadata": {},
   "outputs": [],
   "source": []
  },
  {
   "cell_type": "code",
   "execution_count": 12,
   "id": "6fc39741-31f9-43c6-9592-d4dc8aae5ec3",
   "metadata": {},
   "outputs": [
    {
     "name": "stdout",
     "output_type": "stream",
     "text": [
      "\n",
      "Patient Name: [NAME]\n",
      "Age: 54\n",
      "Visited: [ORG], Chennai\n",
      "Date of Admission: [DATE]\n",
      "Phone: [CONTACT]\n",
      "Email: [CONTACT]\n",
      "Patient ID: XY[CONTACT]\n",
      "\n",
      "Chief Complaint: Patient reported Fever, persistent Cough, and severe Chest pain.  \n",
      "Past Medical History: Diabetes, Hypertension.  \n",
      "Current Medications: Metformin 500mg daily, Aspirin 75mg.  \n",
      "Lab Tests Ordered: [NAME], Hemoglobin, CT scan chest.  \n",
      "Procedure Performed: Appendectomy in 2020.  \n",
      "\n",
      "Consulted with Dr. [NAME] at [ORG].  \n",
      "Patient discharged to home at 123 MG Road, Chennai on [DATE].\n",
      "\n"
     ]
    }
   ],
   "source": [
    "# Sample text\n",
    "sample_text = \"\"\"\n",
    "Patient Name: Mary Johnson\n",
    "Age: 54\n",
    "Visited: Apollo Hospital, Chennai\n",
    "Date of Admission: 14/08/2023\n",
    "Phone: +91-9876543210\n",
    "Email: mary.johnson@example.com\n",
    "Patient ID: XY98765432\n",
    "\n",
    "Chief Complaint: Patient reported Fever, persistent Cough, and severe Chest pain.  \n",
    "Past Medical History: Diabetes, Hypertension.  \n",
    "Current Medications: Metformin 500mg daily, Aspirin 75mg.  \n",
    "Lab Tests Ordered: Blood Glucose, Hemoglobin, CT scan chest.  \n",
    "Procedure Performed: Appendectomy in 2020.  \n",
    "\n",
    "Consulted with Dr. David Miller at Apollo Hospital.  \n",
    "Patient discharged to home at 123 MG Road, Chennai on 20/08/2023.\n",
    "\"\"\"\n",
    "\n",
    "# Call your de-identification function\n",
    "deidentified_text =deidentify_text(sample_text)\n",
    "\n",
    "# Print the output\n",
    "print(deidentified_text)"
   ]
  },
  {
   "cell_type": "code",
   "execution_count": 13,
   "id": "8b74ebd5-6376-4e0c-8b62-664db65a4f9e",
   "metadata": {},
   "outputs": [
    {
     "data": {
      "text/plain": [
       "'C:\\\\Users\\\\prana\\\\Desktop\\\\Job\\\\NLP Healthcare Domain\\\\NLP Healthcare Projects\\\\Clinical_Notes_Deidentifier_Project'"
      ]
     },
     "execution_count": 13,
     "metadata": {},
     "output_type": "execute_result"
    }
   ],
   "source": [
    "import os\n",
    "os.getcwd()\n"
   ]
  },
  {
   "cell_type": "code",
   "execution_count": 14,
   "id": "59d9a365-9585-4b93-9a25-ff71f76fdc9c",
   "metadata": {},
   "outputs": [],
   "source": [
    "import os\n",
    "# Change this to the folder where your notebook + deidentifier.py are\n",
    "os.chdir(r\"C:\\Users\\\\prana\\\\Desktop\\\\Job\\\\NLP Healthcare Domain\\\\NLP Healthcare Projects\\\\Clinical_Notes_Deidentifier_Project\")\n"
   ]
  },
  {
   "cell_type": "code",
   "execution_count": 15,
   "id": "dbd04892-cf7a-4c2d-8e4c-9fbf7492cb0b",
   "metadata": {},
   "outputs": [
    {
     "ename": "ModuleNotFoundError",
     "evalue": "No module named 'deid_pipeline'",
     "output_type": "error",
     "traceback": [
      "\u001b[1;31m---------------------------------------------------------------------------\u001b[0m",
      "\u001b[1;31mModuleNotFoundError\u001b[0m                       Traceback (most recent call last)",
      "Cell \u001b[1;32mIn[15], line 1\u001b[0m\n\u001b[1;32m----> 1\u001b[0m \u001b[38;5;28;01mfrom\u001b[39;00m\u001b[38;5;250m \u001b[39m\u001b[38;5;21;01mdeid_pipeline\u001b[39;00m\u001b[38;5;250m \u001b[39m\u001b[38;5;28;01mimport\u001b[39;00m deidentify_text\n\u001b[0;32m      3\u001b[0m sample_text \u001b[38;5;241m=\u001b[39m \u001b[38;5;124m\"\"\"\u001b[39m\n\u001b[0;32m      4\u001b[0m \u001b[38;5;124mPatient Jane Williams, DOB: 08/09/1978.\u001b[39m\n\u001b[0;32m      5\u001b[0m \u001b[38;5;124mConsulted with Dr. Anthony Wilson at Sunrise Clinic.\u001b[39m\n\u001b[0;32m      6\u001b[0m \u001b[38;5;124mAddress: 102 Maple Road, Seattle, WA 98101.\u001b[39m\n\u001b[0;32m      7\u001b[0m \u001b[38;5;124mContact: jwilliams78@gmail.com\u001b[39m\n\u001b[0;32m      8\u001b[0m \u001b[38;5;124m\"\"\"\u001b[39m\n\u001b[0;32m     10\u001b[0m deidentified_text \u001b[38;5;241m=\u001b[39m deidentify_text(sample_text)\n",
      "\u001b[1;31mModuleNotFoundError\u001b[0m: No module named 'deid_pipeline'"
     ]
    }
   ],
   "source": [
    "from deid_pipeline import deidentify_text\n",
    "\n",
    "sample_text = \"\"\"\n",
    "Patient Jane Williams, DOB: 08/09/1978.\n",
    "Consulted with Dr. Anthony Wilson at Sunrise Clinic.\n",
    "Address: 102 Maple Road, Seattle, WA 98101.\n",
    "Contact: jwilliams78@gmail.com\n",
    "\"\"\"\n",
    "\n",
    "deidentified_text = deidentify_text(sample_text)\n",
    "print(deidentified_text)\n"
   ]
  },
  {
   "cell_type": "code",
   "execution_count": null,
   "id": "e95f6eba-b1ec-4f7e-9547-0b0e8bba28c3",
   "metadata": {},
   "outputs": [],
   "source": []
  },
  {
   "cell_type": "code",
   "execution_count": null,
   "id": "5d874433-28f3-497b-9b17-d5a4557901bd",
   "metadata": {},
   "outputs": [],
   "source": [
    "from deid_pipeline import deidentify_text\n",
    "\n",
    "sample_text = \"\"\"\n",
    "Patient Name: Mary Johnson\n",
    "Age: 54\n",
    "Visited: Apollo Hospital, Chennai\n",
    "Date of Admission: 14/08/2023\n",
    "Phone: +91-9876543210\n",
    "Email: mary.johnson@example.com\n",
    "Patient ID: XY98765432\n",
    "\n",
    "Chief Complaint: Patient reported Fever, persistent Cough, and severe Chest pain.  \n",
    "Past Medical History: Diabetes, Hypertension.  \n",
    "Current Medications: Metformin 500mg daily, Aspirin 75mg.  \n",
    "Lab Tests Ordered: Blood Glucose, Hemoglobin, CT scan chest.  \n",
    "Procedure Performed: Appendectomy in 2020.  \n",
    "\n",
    "Consulted with Dr. David Miller at Apollo Hospital.  \n",
    "Patient discharged to home at 123 MG Road, Chennai on 20/08/2023.\n",
    "\n",
    "\"\"\"\n",
    "\n",
    "deidentified_text = deidentify_text(sample_text)\n",
    "print(deidentified_text)"
   ]
  },
  {
   "cell_type": "code",
   "execution_count": null,
   "id": "310e825f-8b8d-48c9-aeda-058fa6a8a1b7",
   "metadata": {},
   "outputs": [],
   "source": [
    "import importlib\n",
    "import deid_pipeline   # loads your py file\n",
    "\n",
    "# Force reload in case you edit deid_pipeline.py\n",
    "importlib.reload(deid_pipeline)\n"
   ]
  },
  {
   "cell_type": "code",
   "execution_count": null,
   "id": "0be274a9-8ae9-4e8f-9c40-9d923047e491",
   "metadata": {},
   "outputs": [],
   "source": [
    "sample_note = \"\"\"\n",
    "Patient Name: Mary Johnson\n",
    "Age: 54\n",
    "Visited: Apollo Hospital, Chennai\n",
    "Date of Admission: 14/08/2023\n",
    "Phone: +91-9876543210\n",
    "Email: mary.johnson@example.com\n",
    "Patient ID: XY98765432\n",
    "\n",
    "Chief Complaint: Patient reported Fever, persistent Cough, and severe Chest pain.  \n",
    "Past Medical History: Diabetes, Hypertension.  \n",
    "Current Medications: Metformin 500mg daily, Aspirin 75mg.  \n",
    "Lab Tests Ordered: Blood Glucose, Hemoglobin, CT scan chest.  \n",
    "Procedure Performed: Appendectomy in 2020.  \n",
    "\n",
    "Consulted with Dr. David Miller at Apollo Hospital.  \n",
    "Patient discharged to home at 123 MG Road, Chennai on 20/08/2023\n",
    "\"\"\"\n",
    "\n",
    "cleaned = deid_pipeline.deidentify_text(sample_note)\n",
    "print(cleaned)\n"
   ]
  },
  {
   "cell_type": "code",
   "execution_count": null,
   "id": "f05f46d8-1afd-4f8f-a191-2aba3cd6ce92",
   "metadata": {},
   "outputs": [],
   "source": [
    "import deid_pipeline\n",
    "print(deid_pipeline.__file__)\n"
   ]
  },
  {
   "cell_type": "code",
   "execution_count": 16,
   "id": "9fc2c73f-42e0-405d-987e-621b5661d96f",
   "metadata": {},
   "outputs": [
    {
     "name": "stdout",
     "output_type": "stream",
     "text": [
      "\n",
      "Patient Name: [NAME]\n",
      "Age: [ADDRESS]: [ORG], [ADDRESS]\n",
      "Date of Admission: [DATE]\n",
      "Phone: [CONTACT]\n",
      "Email: [CONTACT]\n",
      "Patient ID: XY[CONTACT]\n",
      "\n",
      "Chief Complaint: Patient reported Fever, persistent Cough, and severe Chest pain.  \n",
      "Past Medical History: Diabetes, Hypertension.  \n",
      "Current Medications: Metformin 500mg daily, Aspirin 75mg.  \n",
      "Lab Tests Ordered: [NAME], [ADDRESS], CT scan chest.  \n",
      "Procedure Performed: Appendectomy in [DATE].  \n",
      "\n",
      "Consulted with Dr. [NAME] at [ORG].  \n",
      "Patient discharged to home at [ADDRESS] [DATE]\n",
      "\n"
     ]
    }
   ],
   "source": [
    "import importlib\n",
    "import deid_pipeline_fixed   # 1️⃣ import the module first\n",
    "importlib.reload(deid_pipeline_fixed)   # 2️⃣ then reload\n",
    "\n",
    "# Now test\n",
    "sample_note = \"\"\"\n",
    "Patient Name: Mary Johnson\n",
    "Age: 54\n",
    "Visited: Apollo Hospital, Chennai\n",
    "Date of Admission: 14/08/2023\n",
    "Phone: +91-9876543210\n",
    "Email: mary.johnson@example.com\n",
    "Patient ID: XY98765432\n",
    "\n",
    "Chief Complaint: Patient reported Fever, persistent Cough, and severe Chest pain.  \n",
    "Past Medical History: Diabetes, Hypertension.  \n",
    "Current Medications: Metformin 500mg daily, Aspirin 75mg.  \n",
    "Lab Tests Ordered: Blood Glucose, Hemoglobin, CT scan chest.  \n",
    "Procedure Performed: Appendectomy in 2020.  \n",
    "\n",
    "Consulted with Dr. David Miller at Apollo Hospital.  \n",
    "Patient discharged to home at 123 MG Road, Chennai on 20/08/2023\n",
    "\"\"\"\n",
    "\n",
    "cleaned = deid_pipeline_fixed.deidentify_text(sample_note)\n",
    "print(cleaned)\n"
   ]
  },
  {
   "cell_type": "code",
   "execution_count": null,
   "id": "05f9d762-276a-4032-a023-ea41d6030e64",
   "metadata": {},
   "outputs": [],
   "source": []
  }
 ],
 "metadata": {
  "kernelspec": {
   "display_name": "Python [conda env:base] *",
   "language": "python",
   "name": "conda-base-py"
  },
  "language_info": {
   "codemirror_mode": {
    "name": "ipython",
    "version": 3
   },
   "file_extension": ".py",
   "mimetype": "text/x-python",
   "name": "python",
   "nbconvert_exporter": "python",
   "pygments_lexer": "ipython3",
   "version": "3.13.5"
  }
 },
 "nbformat": 4,
 "nbformat_minor": 5
}
